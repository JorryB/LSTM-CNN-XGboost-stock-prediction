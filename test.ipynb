{
 "cells": [
  {
   "cell_type": "code",
   "execution_count": 1,
   "metadata": {},
   "outputs": [
    {
     "name": "stderr",
     "output_type": "stream",
     "text": [
      "Using TensorFlow backend.\n",
      "c:\\Users\\him19\\anaconda3\\envs\\7409\\lib\\site-packages\\statsmodels\\tools\\_testing.py:19: FutureWarning: pandas.util.testing is deprecated. Use the functions in the public API at pandas.testing instead.\n",
      "  import pandas.util.testing as tm\n"
     ]
    },
    {
     "name": "stdout",
     "output_type": "stream",
     "text": [
      "(7, 2)\n",
      "# [[ 2.46000000e+00  7.40000000e+00]\n",
      " [ 2.46000000e+00  7.58000000e+00]\n",
      " [ 2.44000000e+00  7.23000000e+00]\n",
      " [ 2.45000000e+00  7.48000000e+00]\n",
      " [ 5.67951900e+04  5.10989742e+07]\n",
      " [ 1.57377550e+04  2.74651219e+07]\n",
      " [-5.51106112e-01  4.98073058e-01]]\n",
      "(3478, 20, 7) (3478, 1)\n",
      "wwwwwww\n",
      "testing\n",
      "20\n",
      "128\n",
      "Model: \"model_1\"\n",
      "__________________________________________________________________________________________________\n",
      "Layer (type)                    Output Shape         Param #     Connected to                     \n",
      "==================================================================================================\n",
      "input_1 (InputLayer)            (None, 20, 7)        0                                            \n",
      "__________________________________________________________________________________________________\n",
      "conv1d_1 (Conv1D)               (None, 20, 64)       512         input_1[0][0]                    \n",
      "__________________________________________________________________________________________________\n",
      "dropout_1 (Dropout)             (None, 20, 64)       0           conv1d_1[0][0]                   \n",
      "__________________________________________________________________________________________________\n",
      "bidirectional_1 (Bidirectional) (None, 20, 128)      66048       dropout_1[0][0]                  \n",
      "__________________________________________________________________________________________________\n",
      "dropout_2 (Dropout)             (None, 20, 128)      0           bidirectional_1[0][0]            \n",
      "__________________________________________________________________________________________________\n",
      "permute_1 (Permute)             (None, 128, 20)      0           dropout_2[0][0]                  \n",
      "__________________________________________________________________________________________________\n",
      "dense_1 (Dense)                 (None, 128, 20)      420         permute_1[0][0]                  \n",
      "__________________________________________________________________________________________________\n",
      "permute_2 (Permute)             (None, 20, 128)      0           dense_1[0][0]                    \n",
      "__________________________________________________________________________________________________\n",
      "multiply_1 (Multiply)           (None, 20, 128)      0           dropout_2[0][0]                  \n",
      "                                                                 permute_2[0][0]                  \n",
      "__________________________________________________________________________________________________\n",
      "flatten_1 (Flatten)             (None, 2560)         0           multiply_1[0][0]                 \n",
      "__________________________________________________________________________________________________\n",
      "dense_2 (Dense)                 (None, 1)            2561        flatten_1[0][0]                  \n",
      "==================================================================================================\n",
      "Total params: 69,541\n",
      "Trainable params: 69,541\n",
      "Non-trainable params: 0\n",
      "__________________________________________________________________________________________________\n"
     ]
    }
   ],
   "source": [
    "from keras.optimizers import Adam\n",
    "import matplotlib.pyplot as plt\n",
    "import pandas as pd\n",
    "import numpy as np\n",
    "from sklearn import metrics\n",
    "from utils import *\n",
    "from model import *\n",
    "\n",
    "data1 = pd.read_csv(\"./601988.SH.csv\")\n",
    "data1.index = pd.to_datetime(data1['trade_date'], format='%Y%m%d')\n",
    "#data1 = data1.drop(['ts_code', 'trade_date', 'turnover_rate', 'volume_ratio', 'pb', 'total_share', 'float_share', 'free_share'], axis=1)\n",
    "data1 = data1.loc[:, ['open', 'high', 'low', 'close', 'vol', 'amount']]\n",
    "data_yuan = data1\n",
    "residuals = pd.read_csv('./ARIMA_residuals1.csv')\n",
    "residuals.index = pd.to_datetime(residuals['trade_date'])\n",
    "residuals.pop('trade_date')\n",
    "data1 = pd.merge(data1, residuals, on='trade_date')\n",
    "data = data1.iloc[1:3500, :] \n",
    "data2 = data1.iloc[3500:, :] \n",
    "\n",
    "TIME_STEPS = 20\n",
    "\n",
    "data, normalize = NormalizeMult(data)\n",
    "print('#', normalize)\n",
    "pollution_data = data[:, 3].reshape(len(data), 1)\n",
    "\n",
    "train_X, _ = create_dataset(data, TIME_STEPS)\n",
    "_, train_Y = create_dataset(pollution_data, TIME_STEPS)\n",
    "\n",
    "print(train_X.shape, train_Y.shape)\n",
    "\n",
    "m = attention_model(INPUT_DIMS=7)\n",
    "m.summary() "
   ]
  },
  {
   "cell_type": "code",
   "execution_count": 7,
   "metadata": {},
   "outputs": [],
   "source": [
    "m = attention_model(INPUT_DIMS=7)"
   ]
  }
 ],
 "metadata": {
  "kernelspec": {
   "display_name": "7409",
   "language": "python",
   "name": "python3"
  },
  "language_info": {
   "codemirror_mode": {
    "name": "ipython",
    "version": 3
   },
   "file_extension": ".py",
   "mimetype": "text/x-python",
   "name": "python",
   "nbconvert_exporter": "python",
   "pygments_lexer": "ipython3",
   "version": "3.6.13"
  },
  "orig_nbformat": 4
 },
 "nbformat": 4,
 "nbformat_minor": 2
}
